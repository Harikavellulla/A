{
 "cells": [
  {
   "cell_type": "code",
   "execution_count": 1,
   "id": "f412a168",
   "metadata": {},
   "outputs": [],
   "source": [
    "import cv2"
   ]
  },
  {
   "cell_type": "code",
   "execution_count": 2,
   "id": "3eeb7ad1",
   "metadata": {},
   "outputs": [],
   "source": [
    "import numpy as np"
   ]
  },
  {
   "cell_type": "code",
   "execution_count": 3,
   "id": "eee93a4d",
   "metadata": {},
   "outputs": [],
   "source": [
    "input = cv2.imread(r\"c:\\Users\\LENOVO\\OneDrive\\Desktop\\car.jpg\")"
   ]
  },
  {
   "cell_type": "code",
   "execution_count": 4,
   "id": "1ba5e226",
   "metadata": {},
   "outputs": [
    {
     "data": {
      "text/plain": [
       "array([[[251, 243, 226],\n",
       "        [251, 243, 226],\n",
       "        [251, 243, 226],\n",
       "        ...,\n",
       "        [247, 217,  86],\n",
       "        [246, 215,  82],\n",
       "        [246, 215,  82]],\n",
       "\n",
       "       [[251, 243, 226],\n",
       "        [251, 243, 226],\n",
       "        [251, 243, 226],\n",
       "        ...,\n",
       "        [248, 217,  88],\n",
       "        [247, 216,  87],\n",
       "        [246, 216,  85]],\n",
       "\n",
       "       [[251, 243, 226],\n",
       "        [251, 243, 226],\n",
       "        [251, 243, 226],\n",
       "        ...,\n",
       "        [250, 217,  94],\n",
       "        [249, 217,  92],\n",
       "        [249, 217,  92]],\n",
       "\n",
       "       ...,\n",
       "\n",
       "       [[ 50,  42,  35],\n",
       "        [ 50,  42,  35],\n",
       "        [ 36,  27,  23],\n",
       "        ...,\n",
       "        [ 41,  36,  27],\n",
       "        [ 41,  36,  27],\n",
       "        [ 40,  35,  26]],\n",
       "\n",
       "       [[ 53,  45,  38],\n",
       "        [ 47,  39,  32],\n",
       "        [ 36,  27,  23],\n",
       "        ...,\n",
       "        [ 33,  28,  19],\n",
       "        [ 33,  28,  19],\n",
       "        [ 34,  29,  20]],\n",
       "\n",
       "       [[ 50,  42,  35],\n",
       "        [ 41,  33,  26],\n",
       "        [ 39,  30,  26],\n",
       "        ...,\n",
       "        [ 40,  35,  26],\n",
       "        [ 38,  33,  24],\n",
       "        [ 38,  33,  24]]], shape=(300, 728, 3), dtype=uint8)"
      ]
     },
     "execution_count": 4,
     "metadata": {},
     "output_type": "execute_result"
    }
   ],
   "source": [
    "input"
   ]
  },
  {
   "cell_type": "code",
   "execution_count": 9,
   "id": "ac4e79e7",
   "metadata": {},
   "outputs": [],
   "source": [
    "cv2.imshow('car',input)\n",
    "cv2.waitKey()\n",
    "cv2.destroyAllWindows()"
   ]
  },
  {
   "cell_type": "code",
   "execution_count": null,
   "id": "3eb81dc2",
   "metadata": {},
   "outputs": [
    {
     "name": "stdout",
     "output_type": "stream",
     "text": [
      "Height Of Image: 300 pixels\n",
      "Width OF Image: 728 pixels\n"
     ]
    }
   ],
   "source": [
    "print('Height Of Image:',int(input.shape[0]),'pixels')\n",
    "print('Width OF Image:',int(input.shape[1]),'pixels')"
   ]
  },
  {
   "cell_type": "code",
   "execution_count": 10,
   "id": "042bd16d",
   "metadata": {},
   "outputs": [
    {
     "data": {
      "text/plain": [
       "True"
      ]
     },
     "execution_count": 10,
     "metadata": {},
     "output_type": "execute_result"
    }
   ],
   "source": [
    "cv2.imwrite('output.png',input)"
   ]
  },
  {
   "cell_type": "code",
   "execution_count": 11,
   "id": "0696f5c2",
   "metadata": {},
   "outputs": [
    {
     "data": {
      "text/plain": [
       "'c:\\\\Users\\\\LENOVO\\\\Ai\\\\0.DL\\\\1.OPENCV'"
      ]
     },
     "execution_count": 11,
     "metadata": {},
     "output_type": "execute_result"
    }
   ],
   "source": [
    "import os\n",
    "os.getcwd()"
   ]
  }
 ],
 "metadata": {
  "kernelspec": {
   "display_name": "Python 3",
   "language": "python",
   "name": "python3"
  },
  "language_info": {
   "codemirror_mode": {
    "name": "ipython",
    "version": 3
   },
   "file_extension": ".py",
   "mimetype": "text/x-python",
   "name": "python",
   "nbconvert_exporter": "python",
   "pygments_lexer": "ipython3",
   "version": "3.13.2"
  }
 },
 "nbformat": 4,
 "nbformat_minor": 5
}
