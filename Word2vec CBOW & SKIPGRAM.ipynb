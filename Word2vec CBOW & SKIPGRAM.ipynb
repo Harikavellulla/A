{
 "cells": [
  {
   "cell_type": "code",
   "execution_count": 2,
   "id": "90cd0d6f",
   "metadata": {},
   "outputs": [
    {
     "name": "stdout",
     "output_type": "stream",
     "text": [
      "vector for 'great': [-8.7274825e-03  2.1301615e-03 -8.7354420e-04 -9.3190884e-03\n",
      " -9.4281426e-03 -1.4107180e-03  4.4324086e-03  3.7040710e-03\n",
      " -6.4986930e-03 -6.8730675e-03 -4.9994122e-03 -2.2868442e-03\n",
      " -7.2502876e-03 -9.6033178e-03 -2.7436293e-03 -8.3628409e-03\n",
      " -6.0388758e-03 -5.6709289e-03 -2.3441375e-03 -1.7069972e-03\n",
      " -8.9569986e-03 -7.3519943e-04  8.1525063e-03  7.6904297e-03\n",
      " -7.2061159e-03 -3.6668312e-03  3.1185520e-03 -9.5707225e-03\n",
      "  1.4764392e-03  6.5244664e-03  5.7464195e-03 -8.7630618e-03\n",
      " -4.5171441e-03 -8.1401607e-03  4.5956374e-05  9.2636338e-03\n",
      "  5.9733056e-03  5.0673080e-03  5.0610625e-03 -3.2429171e-03\n",
      "  9.5521836e-03 -7.3564244e-03 -7.2703874e-03 -2.2653891e-03\n",
      " -7.7856064e-04 -3.2161034e-03 -5.9258583e-04  7.4888230e-03\n",
      " -6.9751858e-04 -1.6249407e-03  2.7443992e-03 -8.3591007e-03\n",
      "  7.8558037e-03  8.5361041e-03 -9.5840869e-03  2.4462664e-03\n",
      "  9.9049713e-03 -7.6658037e-03 -6.9669187e-03 -7.7365171e-03\n",
      "  8.3959233e-03 -6.8133592e-04  9.1444086e-03 -8.1582209e-03\n",
      "  3.7430846e-03  2.6350426e-03  7.4271322e-04  2.3276759e-03\n",
      " -7.4690939e-03 -9.3583735e-03  2.3545765e-03  6.1484552e-03\n",
      "  7.9856887e-03  5.7358947e-03 -7.7733636e-04  8.3061643e-03\n",
      " -9.3363142e-03  3.4061326e-03  2.6675343e-04  3.8572443e-03\n",
      "  7.3857834e-03 -6.7251669e-03  5.5844807e-03 -9.5222248e-03\n",
      " -8.0445886e-04 -8.6887367e-03 -5.0986730e-03  9.2892265e-03\n",
      " -1.8582619e-03  2.9144264e-03  9.0712793e-03  8.9381328e-03\n",
      " -8.2084350e-03 -3.0123137e-03  9.8866057e-03  5.1044310e-03\n",
      " -1.5880871e-03 -8.6920215e-03  2.9615164e-03 -6.6758976e-03]\n",
      "Words similar to 'great': [('love', 0.16694681346416473), ('tool', 0.13887982070446014), ('Machine', 0.13149289786815643), ('learning', 0.06409449875354767), ('processing', 0.060591865330934525)]\n"
     ]
    }
   ],
   "source": [
    "import gensim\n",
    "from gensim.models import Word2Vec\n",
    "\n",
    "# Sample sentences for training\n",
    "sentences = [\n",
    "    [\"I\", \"love\", \"natural\", \"language\", \"processing\"],\n",
    "    [\"Word2Vec\", \"is\", \"a\", \"great\", \"tool\"],\n",
    "    [\"Machine\", \"learning\", \"is\", \"fun\"],\n",
    "]\n",
    "# train word2vec model\n",
    "model = Word2Vec(sentences,vector_size=100, window=5, min_count=1,sg =1)\n",
    "\n",
    "# get the vector for a word\n",
    "vector = model.wv['great']\n",
    "print(\"vector for 'great':\",vector)\n",
    "\n",
    "# find similar words\n",
    "similar_words = model.wv.most_similar('great',topn=5)\n",
    "print(\"Words similar to 'great':\",similar_words)\n"
   ]
  },
  {
   "cell_type": "markdown",
   "id": "a091e720",
   "metadata": {},
   "source": [
    "# Cbow and Skip - Gram"
   ]
  },
  {
   "cell_type": "code",
   "execution_count": 5,
   "id": "60bae35c",
   "metadata": {},
   "outputs": [
    {
     "name": "stdout",
     "output_type": "stream",
     "text": [
      "CBOW - Words similar to 'language': [('tool', 0.1991048902273178), ('Word2Vec', 0.17271503806114197), ('Natural', 0.170233353972435), ('learning', 0.14595259726047516), ('fun', 0.06409329921007156)]\n",
      "Skip-gram-Words similar to 'language': [('tool', 0.19910898804664612), ('Word2Vec', 0.17269527912139893), ('Natural', 0.17020359635353088), ('learning', 0.1459759771823883), ('fun', 0.06406981498003006)]\n"
     ]
    }
   ],
   "source": [
    "import gensim\n",
    "from gensim.models import word2vec\n",
    "\n",
    "# Sample sentences for training\n",
    "sentences = [\n",
    "    [\"I\", \"love\", \"natural\", \"language\", \"processing\"],\n",
    "    [\"Word2Vec\", \"is\", \"a\", \"great\", \"tool\"],\n",
    "    [\"Machine\", \"learning\", \"is\", \"fun\"],\n",
    "    [\"Natural\", \"language\", \"processing\", \"is\", \"awesome\"]\n",
    "]\n",
    "# Cbow model\n",
    "cbow_model =Word2Vec (sentences,vector_size = 100,window = 2,min_count = 1,sg = 0)\n",
    "\n",
    "# skip-gram\n",
    "skipgram_model = Word2Vec(sentences,vector_size = 100,window = 2,min_count = 1,sg=1)\n",
    "\n",
    "# Example : Getting  the vector for  a word\n",
    "word = \"language\"\n",
    "cbow_similar_words = cbow_model.wv.most_similar(word,topn = 5)\n",
    "skipgram_similar_words = skipgram_model.wv.most_similar(word,topn = 5)\n",
    "print(f\"CBOW - Words similar to '{word}':\",cbow_similar_words)\n",
    "print(f\"Skip-gram-Words similar to '{word}':\",skipgram_similar_words)\n"
   ]
  },
  {
   "cell_type": "code",
   "execution_count": null,
   "id": "9a0a2288",
   "metadata": {},
   "outputs": [],
   "source": []
  },
  {
   "cell_type": "code",
   "execution_count": null,
   "id": "51a0f653",
   "metadata": {},
   "outputs": [],
   "source": []
  },
  {
   "cell_type": "code",
   "execution_count": null,
   "id": "c0043346",
   "metadata": {},
   "outputs": [],
   "source": []
  }
 ],
 "metadata": {
  "kernelspec": {
   "display_name": "base",
   "language": "python",
   "name": "python3"
  },
  "language_info": {
   "codemirror_mode": {
    "name": "ipython",
    "version": 3
   },
   "file_extension": ".py",
   "mimetype": "text/x-python",
   "name": "python",
   "nbconvert_exporter": "python",
   "pygments_lexer": "ipython3",
   "version": "3.12.3"
  }
 },
 "nbformat": 4,
 "nbformat_minor": 5
}
